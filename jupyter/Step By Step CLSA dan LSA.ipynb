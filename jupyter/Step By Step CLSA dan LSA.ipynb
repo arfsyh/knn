{
 "cells": [
  {
   "cell_type": "code",
   "execution_count": 1,
   "metadata": {},
   "outputs": [],
   "source": [
    "#Load Library\n",
    "import pandas as pd\n",
    "from Sastrawi.StopWordRemover.StopWordRemoverFactory import StopWordRemoverFactory\n",
    "from Sastrawi.Stemmer.StemmerFactory import StemmerFactory \n",
    "import string\n",
    "from nltk.stem import PorterStemmer\n",
    "import re\n",
    "from sklearn.feature_extraction.text import CountVectorizer # tf-idf\n",
    "from sklearn.feature_extraction.text import TfidfTransformer, TfidfVectorizer # tf-idf\n",
    "import scipy as sp\n",
    "import numpy as np\n",
    "from scipy.linalg import svd \n",
    "from numpy import dot\n",
    "from nltk.corpus import stopwords # preprocessing\n",
    "from nltk.stem import PorterStemmer # preprocessing bahasa inggris\n",
    "from scipy.linalg import svd\n",
    "import numpy"
   ]
  },
  {
   "cell_type": "code",
   "execution_count": 2,
   "metadata": {},
   "outputs": [
    {
     "name": "stdout",
     "output_type": "stream",
     "text": [
      "Ikatan Dokter Anak Indonesia ( IDAI) memberikan sejumlah rekomendasi untuk mencegah penularan Covid-19 kepada anak di masa pandemi. Salah satu yang direkomendasikan adalah agar anak tidak keluar rumah selama situasi Covid-19 di Indonesia belum memenuhi kriteria epidemiologi badan kesehatan dunia (WHO). \"Kami merekomendasikan agar anak-anak jangan keluar rumah dulu. Termasuk untuk kegiatan tatap muka di sekolah,\" ujar anggota Tim Satgas Penanganan Covid-19 IDAI, Yogi Prawira. Rekomendasi untuk tidak keluar rumah ini, berlaku hingga daerah tempat tinggal anak-anak dianggap sudah dapat mengatasi penularan Covid-19 lewat transmisi lokal. Namun, kata Yogi, rekomendasi ini dikecualikan jika ada keperluan mendesak yang membuat anak untuk keluar rumah\n"
     ]
    }
   ],
   "source": [
    "kalimat = input()\n",
    "\n",
    "#Ikatan Dokter Anak Indonesia ( IDAI) memberikan sejumlah rekomendasi untuk mencegah penularan Covid-19 kepada anak di masa pandemi. Salah satu yang direkomendasikan adalah agar anak tidak keluar rumah selama situasi Covid-19 di Indonesia belum memenuhi kriteria epidemiologi badan kesehatan dunia (WHO). Kami merekomendasikan agar anak-anak jangan keluar rumah dulu. Termasuk untuk kegiatan tatap muka di sekolah, ujar anggota Tim Satgas Penanganan Covid-19 IDAI, Yogi Prawira. Rekomendasi untuk tidak keluar rumah ini, berlaku hingga daerah tempat tinggal anak-anak dianggap sudah dapat mengatasi penularan Covid-19 lewat transmisi lokal. Namun, kata Yogi, rekomendasi ini dikecualikan jika ada keperluan mendesak yang membuat anak untuk keluar rumah"
   ]
  },
  {
   "cell_type": "code",
   "execution_count": 3,
   "metadata": {},
   "outputs": [
    {
     "name": "stdout",
     "output_type": "stream",
     "text": [
      "['ikat dokter anak indonesia ida beri jumlah rekomendasi cegah tular covid19 anak masa pandemi', 'salah satu rekomendasi anak keluar rumah lama situasi covid19 indonesia penuh kriteria epidemiologi badan sehat dunia who', 'rekomendasi anak jangan keluar rumah dulu', 'masuk giat tatap muka sekolah ujar anggota tim satgas tangan covid19 ida yogi prawira', 'rekomendasi keluar rumah laku hingga daerah tempat tinggal anak anggap atas tular covid19 lewat transmisi lok', 'kata yogi rekomendasi perlu desak buat anak keluar rumah']\n"
     ]
    }
   ],
   "source": [
    "# Preprocessing\n",
    "\n",
    "stemmer = StemmerFactory().create_stemmer()  # Object stemmer\n",
    "remover = StopWordRemoverFactory().create_stop_word_remover()  # objek stopword\n",
    "translator = str.maketrans('', '', string.punctuation)\n",
    "\n",
    "def stemmerEN(text):\n",
    "    porter = PorterStemmer()\n",
    "    ## stop = set(stopwords.words('english')) #stopwods berguna untuk\n",
    "    factory = StopWordRemoverFactory()\n",
    "    stopwords = factory.get_stop_words()\n",
    "    text = text.lower()\n",
    "    text = [i for i in text.lower().split() if i not in stopwords]\n",
    "    text = ' '.join(text)\n",
    "    preprocessed_text = text.translate(translator)\n",
    "    text_stem = porter.stem(preprocessed_text)\n",
    "    return text_stem\n",
    "\n",
    "def preprocessing(text):\n",
    "    text = text.lower()\n",
    "    text_clean = remover.remove(text)\n",
    "    text_stem = stemmer.stem(text_clean)\n",
    "    text_stem = stemmerEN(text_stem)\n",
    "    return text_stem\n",
    "\n",
    "def splitParagraphIntoSentences(paragraph):\n",
    "    sentenceEnders = re.compile('[.!?]')\n",
    "    sentenceList = sentenceEnders.split(paragraph)\n",
    "    return sentenceList\n",
    "\n",
    "pemisal_kalimat = splitParagraphIntoSentences(kalimat)\n",
    "simpan_sementara_isi_berita = list()\n",
    "berita_asli = list()\n",
    "for per_kalimat in pemisal_kalimat:\n",
    "    simpan_sementara_isi_berita.append(preprocessing(per_kalimat.strip()))\n",
    "    berita_asli.append(per_kalimat.strip())\n",
    "    \n",
    "#tampikan hasil dari pemisahan titik dan preprocessing\n",
    "print(simpan_sementara_isi_berita)"
   ]
  },
  {
   "cell_type": "code",
   "execution_count": 4,
   "metadata": {},
   "outputs": [
    {
     "name": "stdout",
     "output_type": "stream",
     "text": [
      "                     0         1         2         3         4         5\n",
      "anak          2.364643  1.182322  1.182322  0.000000  1.182322  1.182322\n",
      "anggap        0.000000  0.000000  0.000000  0.000000  2.791759  0.000000\n",
      "anggota       0.000000  0.000000  0.000000  2.791759  0.000000  0.000000\n",
      "atas          0.000000  0.000000  0.000000  0.000000  2.791759  0.000000\n",
      "badan         0.000000  2.791759  0.000000  0.000000  0.000000  0.000000\n",
      "beri          2.791759  0.000000  0.000000  0.000000  0.000000  0.000000\n",
      "buat          0.000000  0.000000  0.000000  0.000000  0.000000  2.791759\n",
      "cegah         2.791759  0.000000  0.000000  0.000000  0.000000  0.000000\n",
      "covid19       1.405465  1.405465  0.000000  1.405465  1.405465  0.000000\n",
      "daerah        0.000000  0.000000  0.000000  0.000000  2.791759  0.000000\n",
      "desak         0.000000  0.000000  0.000000  0.000000  0.000000  2.791759\n",
      "dokter        2.791759  0.000000  0.000000  0.000000  0.000000  0.000000\n",
      "dulu          0.000000  0.000000  2.791759  0.000000  0.000000  0.000000\n",
      "dunia         0.000000  2.791759  0.000000  0.000000  0.000000  0.000000\n",
      "epidemiologi  0.000000  2.791759  0.000000  0.000000  0.000000  0.000000\n",
      "giat          0.000000  0.000000  0.000000  2.791759  0.000000  0.000000\n",
      "hingga        0.000000  0.000000  0.000000  0.000000  2.791759  0.000000\n",
      "ida           2.098612  0.000000  0.000000  2.098612  0.000000  0.000000\n",
      "ikat          2.791759  0.000000  0.000000  0.000000  0.000000  0.000000\n",
      "indonesia     2.098612  2.098612  0.000000  0.000000  0.000000  0.000000\n",
      "jangan        0.000000  0.000000  2.791759  0.000000  0.000000  0.000000\n",
      "jumlah        2.791759  0.000000  0.000000  0.000000  0.000000  0.000000\n",
      "kata          0.000000  0.000000  0.000000  0.000000  0.000000  2.791759\n",
      "keluar        0.000000  1.405465  1.405465  0.000000  1.405465  1.405465\n",
      "kriteria      0.000000  2.791759  0.000000  0.000000  0.000000  0.000000\n",
      "laku          0.000000  0.000000  0.000000  0.000000  2.791759  0.000000\n",
      "lama          0.000000  2.791759  0.000000  0.000000  0.000000  0.000000\n",
      "lewat         0.000000  0.000000  0.000000  0.000000  2.791759  0.000000\n",
      "lok           0.000000  0.000000  0.000000  0.000000  2.791759  0.000000\n",
      "masa          2.791759  0.000000  0.000000  0.000000  0.000000  0.000000\n",
      "masuk         0.000000  0.000000  0.000000  2.791759  0.000000  0.000000\n",
      "muka          0.000000  0.000000  0.000000  2.791759  0.000000  0.000000\n",
      "pandemi       2.791759  0.000000  0.000000  0.000000  0.000000  0.000000\n",
      "penuh         0.000000  2.791759  0.000000  0.000000  0.000000  0.000000\n",
      "perlu         0.000000  0.000000  0.000000  0.000000  0.000000  2.791759\n",
      "prawira       0.000000  0.000000  0.000000  2.791759  0.000000  0.000000\n",
      "rekomendasi   1.182322  1.182322  1.182322  0.000000  1.182322  1.182322\n",
      "rumah         0.000000  1.405465  1.405465  0.000000  1.405465  1.405465\n",
      "salah         0.000000  2.791759  0.000000  0.000000  0.000000  0.000000\n",
      "satgas        0.000000  0.000000  0.000000  2.791759  0.000000  0.000000\n",
      "satu          0.000000  2.791759  0.000000  0.000000  0.000000  0.000000\n",
      "sehat         0.000000  2.791759  0.000000  0.000000  0.000000  0.000000\n",
      "sekolah       0.000000  0.000000  0.000000  2.791759  0.000000  0.000000\n",
      "situasi       0.000000  2.791759  0.000000  0.000000  0.000000  0.000000\n",
      "tangan        0.000000  0.000000  0.000000  2.791759  0.000000  0.000000\n",
      "tatap         0.000000  0.000000  0.000000  2.791759  0.000000  0.000000\n",
      "tempat        0.000000  0.000000  0.000000  0.000000  2.791759  0.000000\n",
      "tim           0.000000  0.000000  0.000000  2.791759  0.000000  0.000000\n",
      "tinggal       0.000000  0.000000  0.000000  0.000000  2.791759  0.000000\n",
      "transmisi     0.000000  0.000000  0.000000  0.000000  2.791759  0.000000\n",
      "tular         2.098612  0.000000  0.000000  0.000000  2.098612  0.000000\n",
      "ujar          0.000000  0.000000  0.000000  2.791759  0.000000  0.000000\n",
      "who           0.000000  2.791759  0.000000  0.000000  0.000000  0.000000\n",
      "yogi          0.000000  0.000000  0.000000  2.098612  0.000000  2.098612\n"
     ]
    }
   ],
   "source": [
    "# TF-IDF\n",
    "\n",
    "factory = StopWordRemoverFactory()\n",
    "stopwords = factory.get_stop_words()\n",
    "tfidf_vectorizer = TfidfVectorizer(stop_words=stopwords,smooth_idf=False, norm=None)\n",
    "X = tfidf_vectorizer.fit_transform(simpan_sementara_isi_berita)\n",
    "return_TFIDF  = pd.DataFrame(X.toarray(), columns=tfidf_vectorizer.get_feature_names()).T\n",
    "print(return_TFIDF)"
   ]
  },
  {
   "cell_type": "code",
   "execution_count": 5,
   "metadata": {},
   "outputs": [],
   "source": [
    "#ini adalah fungsi global untuk pemanggilan Kalimat yang sudah di hasilkan berdasarkan summary CLSA.LSA\n",
    "def summary_sentence(doc, angka, result_TFIDF, types=''):\n",
    "    types = types.lower()\n",
    "    angkas = int(angka)\n",
    "    # try :\n",
    "    if (types == 'lsa') :\n",
    "        matrixAT=result_TFIDF.toarray()\n",
    "        matrixA=np.transpose(matrixAT)\n",
    "        matrixAT=np.transpose(matrixA)\n",
    "        a = np.array(matrixAT)\n",
    "        b = np.array(matrixA)\n",
    "        aTa = dot(a,b)\n",
    "        tempSVD = np.array(aTa)\n",
    "        u, s, v = svd(tempSVD)\n",
    "        s = sp.diag(s)\n",
    "        datas = list()\n",
    "        loop = v[0]\n",
    "        if(angkas <= len(s[0])):\n",
    "            for x in range(0, 8):\n",
    "                print(x)\n",
    "                loop = s[0]\n",
    "                temp2 = 0\n",
    "                temp = list()\n",
    "                for i in np.arange(np.size(loop)):\n",
    "                    for j in np.arange(np.size(loop)):\n",
    "                        temp2 = temp2 + np.sqrt(dot(np.square(s[i][j]),np.square(v[i][j])))\n",
    "                    if(temp2 == temp[x]):\n",
    "                        if(temp2 != 0):\n",
    "                            print(doc[i])\n",
    "                    temp2 = 0\n",
    "        else:\n",
    "            print('Jumlah input melebihi jumlah dokumen')\n",
    "        return datas\n",
    "            \n",
    "    elif (types == 'clsa') :\n",
    "        matrixAT=result_TFIDF.toarray()\n",
    "        matrixA=np.transpose(matrixAT)\n",
    "        matrixAT=np.transpose(matrixA)\n",
    "        a = np.array(matrixAT)\n",
    "        b = np.array(matrixA)\n",
    "        aTa = dot(a,b)\n",
    "        tempSVD = np.array(aTa)\n",
    "        u, s, v = svd(tempSVD)\n",
    "        s = sp.diag(s)\n",
    "        aa =v[0]\n",
    "        for i in np.arange(np.size(aa)):\n",
    "            av = np.average(v[i])\n",
    "            for j in np.arange(np.size(aa)):\n",
    "                if v[i][j] < av :\n",
    "                    v[i][j] = 0\n",
    "\n",
    "        loop = s[0]\n",
    "        temp = 0\n",
    "        data = list()\n",
    "        for i in np.arange(np.size(loop)):\n",
    "            for j in np.arange(np.size(loop)):\n",
    "                temp = temp + np.sqrt(dot(np.square(s[i][j]),np.square(v[i][j])))\n",
    "            if(temp != 0):\n",
    "                data.append(doc[i])\n",
    "            temp = 0\n",
    "        return data"
   ]
  },
  {
   "cell_type": "code",
   "execution_count": 6,
   "metadata": {},
   "outputs": [
    {
     "name": "stdout",
     "output_type": "stream",
     "text": [
      "2\n",
      "['\"Kami merekomendasikan agar anak-anak jangan keluar rumah dulu', 'Rekomendasi untuk tidak keluar rumah ini, berlaku hingga daerah tempat tinggal anak-anak dianggap sudah dapat mengatasi penularan Covid-19 lewat transmisi lokal']\n"
     ]
    }
   ],
   "source": [
    "#kemudian kita cari CLSA dari hasil TF-IDF\n",
    "\n",
    "def CLSA(tfidf):\n",
    "    matrixAT=tfidf.toarray()\n",
    "    matrixA=numpy.transpose(matrixAT)\n",
    "    matrixAT=numpy.transpose(matrixA)\n",
    "    a = np.array(matrixAT)\n",
    "    b = np.array(matrixA)\n",
    "    aTa = dot(a,b)\n",
    "    A = np.array(aTa)\n",
    "    u, s, v = np.linalg.svd(A, full_matrices = False)\n",
    "    s = sp.diag(s)\n",
    "    aa =v[0]\n",
    "    for i in np.arange(np.size(aa)):\n",
    "        av = np.average(v[i])\n",
    "        for j in np.arange(np.size(aa)):\n",
    "            if v[i][j] < av :\n",
    "                v[i][j] = 0\n",
    "    loop = s[0]\n",
    "    for i in np.arange(np.size(loop)):\n",
    "        for j in np.arange(np.size(loop)):\n",
    "            s[i][j] = np.sqrt(dot(np.square(s[i][j]),np.square(v[i][j])))\n",
    "    return s\n",
    "\n",
    "def sum_frame_by_column(frame, new_col_name, list_of_cols_to_sum):\n",
    "    frame[new_col_name] = frame[list_of_cols_to_sum].astype(float).sum(axis=1)\n",
    "    return(frame)\n",
    "\n",
    "a = int(input())\n",
    "return_CLSA = pd.DataFrame(CLSA(X)).T\n",
    "sentences_clsa = summary_sentence(berita_asli,a, X, types='clsa')\n",
    "rank_CLSA = sum_frame_by_column(return_CLSA, 'total_score_document', [i for i in range(len(return_CLSA[0]))])\n",
    "soritng = sorted(rank_CLSA['total_score_document'], reverse=True)\n",
    "# print(return_CLSA)\n",
    "print(sentences_clsa)\n",
    "# print(rank_CLSA)\n",
    "# print(soritng)"
   ]
  },
  {
   "cell_type": "code",
   "execution_count": 7,
   "metadata": {},
   "outputs": [
    {
     "name": "stdout",
     "output_type": "stream",
     "text": [
      "2\n",
      "0\n"
     ]
    },
    {
     "ename": "IndexError",
     "evalue": "list index out of range",
     "output_type": "error",
     "traceback": [
      "\u001b[1;31m---------------------------------------------------------------------------\u001b[0m",
      "\u001b[1;31mIndexError\u001b[0m                                Traceback (most recent call last)",
      "\u001b[1;32m<ipython-input-7-981741b869de>\u001b[0m in \u001b[0;36m<module>\u001b[1;34m\u001b[0m\n\u001b[0;32m     18\u001b[0m \u001b[0ma\u001b[0m \u001b[1;33m=\u001b[0m \u001b[0mint\u001b[0m\u001b[1;33m(\u001b[0m\u001b[0minput\u001b[0m\u001b[1;33m(\u001b[0m\u001b[1;33m)\u001b[0m\u001b[1;33m)\u001b[0m\u001b[1;33m\u001b[0m\u001b[1;33m\u001b[0m\u001b[0m\n\u001b[0;32m     19\u001b[0m \u001b[0mreturn_LSA\u001b[0m \u001b[1;33m=\u001b[0m \u001b[0mpd\u001b[0m\u001b[1;33m.\u001b[0m\u001b[0mDataFrame\u001b[0m\u001b[1;33m(\u001b[0m\u001b[0mLSA\u001b[0m\u001b[1;33m(\u001b[0m\u001b[0mX\u001b[0m\u001b[1;33m)\u001b[0m\u001b[1;33m)\u001b[0m\u001b[1;33m.\u001b[0m\u001b[0mT\u001b[0m\u001b[1;33m\u001b[0m\u001b[1;33m\u001b[0m\u001b[0m\n\u001b[1;32m---> 20\u001b[1;33m \u001b[0msentences_lsa\u001b[0m \u001b[1;33m=\u001b[0m \u001b[0msummary_sentence\u001b[0m\u001b[1;33m(\u001b[0m\u001b[0mberita_asli\u001b[0m\u001b[1;33m,\u001b[0m\u001b[0ma\u001b[0m\u001b[1;33m,\u001b[0m \u001b[0mX\u001b[0m\u001b[1;33m,\u001b[0m \u001b[0mtypes\u001b[0m\u001b[1;33m=\u001b[0m\u001b[1;34m'lsa'\u001b[0m\u001b[1;33m)\u001b[0m\u001b[1;33m\u001b[0m\u001b[1;33m\u001b[0m\u001b[0m\n\u001b[0m\u001b[0;32m     21\u001b[0m \u001b[1;33m\u001b[0m\u001b[0m\n\u001b[0;32m     22\u001b[0m \u001b[0mprint\u001b[0m\u001b[1;33m(\u001b[0m\u001b[0mreturn_LSA\u001b[0m\u001b[1;33m)\u001b[0m\u001b[1;33m\u001b[0m\u001b[1;33m\u001b[0m\u001b[0m\n",
      "\u001b[1;32m<ipython-input-5-7372a548b76c>\u001b[0m in \u001b[0;36msummary_sentence\u001b[1;34m(doc, angka, result_TFIDF, types)\u001b[0m\n\u001b[0;32m     25\u001b[0m                     \u001b[1;32mfor\u001b[0m \u001b[0mj\u001b[0m \u001b[1;32min\u001b[0m \u001b[0mnp\u001b[0m\u001b[1;33m.\u001b[0m\u001b[0marange\u001b[0m\u001b[1;33m(\u001b[0m\u001b[0mnp\u001b[0m\u001b[1;33m.\u001b[0m\u001b[0msize\u001b[0m\u001b[1;33m(\u001b[0m\u001b[0mloop\u001b[0m\u001b[1;33m)\u001b[0m\u001b[1;33m)\u001b[0m\u001b[1;33m:\u001b[0m\u001b[1;33m\u001b[0m\u001b[1;33m\u001b[0m\u001b[0m\n\u001b[0;32m     26\u001b[0m                         \u001b[0mtemp2\u001b[0m \u001b[1;33m=\u001b[0m \u001b[0mtemp2\u001b[0m \u001b[1;33m+\u001b[0m \u001b[0mnp\u001b[0m\u001b[1;33m.\u001b[0m\u001b[0msqrt\u001b[0m\u001b[1;33m(\u001b[0m\u001b[0mdot\u001b[0m\u001b[1;33m(\u001b[0m\u001b[0mnp\u001b[0m\u001b[1;33m.\u001b[0m\u001b[0msquare\u001b[0m\u001b[1;33m(\u001b[0m\u001b[0ms\u001b[0m\u001b[1;33m[\u001b[0m\u001b[0mi\u001b[0m\u001b[1;33m]\u001b[0m\u001b[1;33m[\u001b[0m\u001b[0mj\u001b[0m\u001b[1;33m]\u001b[0m\u001b[1;33m)\u001b[0m\u001b[1;33m,\u001b[0m\u001b[0mnp\u001b[0m\u001b[1;33m.\u001b[0m\u001b[0msquare\u001b[0m\u001b[1;33m(\u001b[0m\u001b[0mv\u001b[0m\u001b[1;33m[\u001b[0m\u001b[0mi\u001b[0m\u001b[1;33m]\u001b[0m\u001b[1;33m[\u001b[0m\u001b[0mj\u001b[0m\u001b[1;33m]\u001b[0m\u001b[1;33m)\u001b[0m\u001b[1;33m)\u001b[0m\u001b[1;33m)\u001b[0m\u001b[1;33m\u001b[0m\u001b[1;33m\u001b[0m\u001b[0m\n\u001b[1;32m---> 27\u001b[1;33m                     \u001b[1;32mif\u001b[0m\u001b[1;33m(\u001b[0m\u001b[0mtemp2\u001b[0m \u001b[1;33m==\u001b[0m \u001b[0mtemp\u001b[0m\u001b[1;33m[\u001b[0m\u001b[0mx\u001b[0m\u001b[1;33m]\u001b[0m\u001b[1;33m)\u001b[0m\u001b[1;33m:\u001b[0m\u001b[1;33m\u001b[0m\u001b[1;33m\u001b[0m\u001b[0m\n\u001b[0m\u001b[0;32m     28\u001b[0m                         \u001b[1;32mif\u001b[0m\u001b[1;33m(\u001b[0m\u001b[0mtemp2\u001b[0m \u001b[1;33m!=\u001b[0m \u001b[1;36m0\u001b[0m\u001b[1;33m)\u001b[0m\u001b[1;33m:\u001b[0m\u001b[1;33m\u001b[0m\u001b[1;33m\u001b[0m\u001b[0m\n\u001b[0;32m     29\u001b[0m                             \u001b[0mprint\u001b[0m\u001b[1;33m(\u001b[0m\u001b[0mdoc\u001b[0m\u001b[1;33m[\u001b[0m\u001b[0mi\u001b[0m\u001b[1;33m]\u001b[0m\u001b[1;33m)\u001b[0m\u001b[1;33m\u001b[0m\u001b[1;33m\u001b[0m\u001b[0m\n",
      "\u001b[1;31mIndexError\u001b[0m: list index out of range"
     ]
    }
   ],
   "source": [
    "#kemudian kita banding kan dengan metode LSA\n",
    "def LSA(tfidf): \n",
    "    matrixAT=tfidf.toarray()\n",
    "    matrixA=np.transpose(matrixAT)\n",
    "    matrixAT=np.transpose(matrixA)\n",
    "    a = np.array(matrixAT)\n",
    "    b = np.array(matrixA)\n",
    "    aTa = dot(a,b)\n",
    "    tempSVD = np.array(aTa)\n",
    "    u, s, v = np.linalg.svd(tempSVD, full_matrices = False)\n",
    "    s = sp.diag(s)\n",
    "    loop = s[0]\n",
    "    for i in np.arange(np.size(loop)):\n",
    "        for j in np.arange(np.size(loop)):\n",
    "            s[i][j] = np.sqrt(dot(np.square(s[i][j]),np.square(v[i][j])))\n",
    "    return s\n",
    "\n",
    "a = int(input())\n",
    "return_LSA = pd.DataFrame(LSA(X)).T\n",
    "sentences_lsa = summary_sentence(berita_asli,a, X, types='lsa')\n",
    "\n",
    "print(return_LSA)\n",
    "print(sentences_lsa)\n"
   ]
  },
  {
   "cell_type": "code",
   "execution_count": null,
   "metadata": {},
   "outputs": [],
   "source": []
  }
 ],
 "metadata": {
  "kernelspec": {
   "display_name": "Python 3",
   "language": "python",
   "name": "python3"
  },
  "language_info": {
   "codemirror_mode": {
    "name": "ipython",
    "version": 3
   },
   "file_extension": ".py",
   "mimetype": "text/x-python",
   "name": "python",
   "nbconvert_exporter": "python",
   "pygments_lexer": "ipython3",
   "version": "3.7.4"
  }
 },
 "nbformat": 4,
 "nbformat_minor": 2
}
